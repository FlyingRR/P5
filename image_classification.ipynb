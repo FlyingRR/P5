{
 "cells": [
  {
   "cell_type": "markdown",
   "metadata": {
    "collapsed": true
   },
   "source": [
    "# Image Classification\n",
    "In this project, you'll classify images from the [CIFAR-10 dataset](https://www.cs.toronto.edu/~kriz/cifar.html).  The dataset consists of airplanes, dogs, cats, and other objects. You'll preprocess the images, then train a convolutional neural network on all the samples. The images need to be normalized and the labels need to be one-hot encoded.  You'll get to apply what you learned and build a convolutional, max pooling, dropout, and fully connected layers.  At the end, you'll get to see your neural network's predictions on the sample images.\n",
    "## Get the Data\n",
    "Run the following cell to download the [CIFAR-10 dataset for python](https://www.cs.toronto.edu/~kriz/cifar-10-python.tar.gz)."
   ]
  },
  {
   "cell_type": "code",
   "execution_count": 1,
   "metadata": {},
   "outputs": [
    {
     "name": "stdout",
     "output_type": "stream",
     "text": [
      "All files found!\n"
     ]
    }
   ],
   "source": [
    "\"\"\"\n",
    "DON'T MODIFY ANYTHING IN THIS CELL THAT IS BELOW THIS LINE\n",
    "\"\"\"\n",
    "from urllib.request import urlretrieve\n",
    "from os.path import isfile, isdir\n",
    "from tqdm import tqdm\n",
    "import problem_unittests as tests\n",
    "import tarfile\n",
    "\n",
    "cifar10_dataset_folder_path = 'cifar-10-batches-py'\n",
    "\n",
    "class DLProgress(tqdm):\n",
    "    last_block = 0\n",
    "\n",
    "    def hook(self, block_num=1, block_size=1, total_size=None):\n",
    "        self.total = total_size\n",
    "        self.update((block_num - self.last_block) * block_size)\n",
    "        self.last_block = block_num\n",
    "\n",
    "if not isfile('cifar-10-python.tar.gz'):\n",
    "    with DLProgress(unit='B', unit_scale=True, miniters=1, desc='CIFAR-10 Dataset') as pbar:\n",
    "        urlretrieve(\n",
    "            'https://www.cs.toronto.edu/~kriz/cifar-10-python.tar.gz',\n",
    "            'cifar-10-python.tar.gz',\n",
    "            pbar.hook)\n",
    "\n",
    "if not isdir(cifar10_dataset_folder_path):\n",
    "    with tarfile.open('cifar-10-python.tar.gz') as tar:\n",
    "        tar.extractall()\n",
    "        tar.close()\n",
    "\n",
    "\n",
    "tests.test_folder_path(cifar10_dataset_folder_path)"
   ]
  },
  {
   "cell_type": "markdown",
   "metadata": {},
   "source": [
    "## Explore the Data\n",
    "The dataset is broken into batches to prevent your machine from running out of memory.  The CIFAR-10 dataset consists of 5 batches, named `data_batch_1`, `data_batch_2`, etc.. Each batch contains the labels and images that are one of the following:\n",
    "* airplane\n",
    "* automobile\n",
    "* bird\n",
    "* cat\n",
    "* deer\n",
    "* dog\n",
    "* frog\n",
    "* horse\n",
    "* ship\n",
    "* truck\n",
    "\n",
    "Understanding a dataset is part of making predictions on the data.  Play around with the code cell below by changing the `batch_id` and `sample_id`. The `batch_id` is the id for a batch (1-5). The `sample_id` is the id for a image and label pair in the batch.\n",
    "\n",
    "Ask yourself \"What are all possible labels?\", \"What is the range of values for the image data?\", \"Are the labels in order or random?\".  Answers to questions like these will help you preprocess the data and end up with better predictions."
   ]
  },
  {
   "cell_type": "code",
   "execution_count": 2,
   "metadata": {},
   "outputs": [
    {
     "name": "stdout",
     "output_type": "stream",
     "text": [
      "\n",
      "Stats of batch 4:\n",
      "Samples: 10000\n",
      "Label Counts: {0: 1003, 1: 963, 2: 1041, 3: 976, 4: 1004, 5: 1021, 6: 1004, 7: 981, 8: 1024, 9: 983}\n",
      "First 20 Labels: [0, 6, 0, 2, 7, 2, 1, 2, 4, 1, 5, 6, 6, 3, 1, 3, 5, 5, 8, 1]\n",
      "\n",
      "Example of Image 9993:\n",
      "Image - Min Value: 19 Max Value: 255\n",
      "Image - Shape: (32, 32, 3)\n",
      "Label - Label Id: 9 Name: truck\n"
     ]
    },
    {
     "data": {
      "image/png": "[encoded data removed]",
      "text/plain": [
       "<matplotlib.figure.Figure at 0x11ef8d860>"
      ]
     },
     "metadata": {
      "image/png": {
       "height": 250,
       "width": 253
      }
     },
     "output_type": "display_data"
    }
   ],
   "source": [
    "%matplotlib inline\n",
    "%config InlineBackend.figure_format = 'retina'\n",
    "\n",
    "import helper\n",
    "import numpy as np\n",
    "\n",
    "# Explore the dataset\n",
    "batch_id = 4\n",
    "sample_id = 9993\n",
    "helper.display_stats(cifar10_dataset_folder_path, batch_id, sample_id)"
   ]
  },
  {
   "cell_type": "markdown",
   "metadata": {},
   "source": [
    "## Implement Preprocess Functions\n",
    "### Normalize\n",
    "In the cell below, implement the `normalize` function to take in image data, `x`, and return it as a normalized Numpy array. The values should be in the range of 0 to 1, inclusive.  The return object should be the same shape as `x`."
   ]
  },
  {
   "cell_type": "code",
   "execution_count": 3,
   "metadata": {},
   "outputs": [
    {
     "name": "stdout",
     "output_type": "stream",
     "text": [
      "Tests Passed\n"
     ]
    }
   ],
   "source": [
    "def normalize(x):\n",
    "    \"\"\"\n",
    "    Normalize a list of sample image data in the range of 0 to 1\n",
    "    : x: List of image data.  The image shape is (32, 32, 3)\n",
    "    : return: Numpy array of normalize data\n",
    "    \"\"\"\n",
    "    # TODO: Implement Function\n",
    "    x = x/255\n",
    "    return x\n",
    "\n",
    "\n",
    "\"\"\"\n",
    "DON'T MODIFY ANYTHING IN THIS CELL THAT IS BELOW THIS LINE\n",
    "\"\"\"\n",
    "tests.test_normalize(normalize)"
   ]
  },
  {
   "cell_type": "markdown",
   "metadata": {},
   "source": [
    "### One-hot encode\n",
    "Just like the previous code cell, you'll be implementing a function for preprocessing.  This time, you'll implement the `one_hot_encode` function. The input, `x`, are a list of labels.  Implement the function to return the list of labels as One-Hot encoded Numpy array.  The possible values for labels are 0 to 9. The one-hot encoding function should return the same encoding for each value between each call to `one_hot_encode`.  Make sure to save the map of encodings outside the function.\n",
    "\n",
    "**Hint:**\n",
    "\n",
    "Look into LabelBinarizer in the preprocessing module of sklearn."
   ]
  },
  {
   "cell_type": "code",
   "execution_count": 4,
   "metadata": {},
   "outputs": [
    {
     "name": "stdout",
     "output_type": "stream",
     "text": [
      "Tests Passed\n"
     ]
    }
   ],
   "source": [
    "def one_hot_encode(x):\n",
    "    \"\"\"\n",
    "    One hot encode a list of sample labels. Return a one-hot encoded vector for each label.\n",
    "    : x: List of sample Labels\n",
    "    : return: Numpy array of one-hot encoded labels\n",
    "    \"\"\"\n",
    "    # TODO: Implement Function\n",
    "    #print('inputs: ',x)\n",
    "    from sklearn import preprocessing\n",
    "    lb = preprocessing.LabelBinarizer()\n",
    "    lb.fit([0,1,2,3,4,5,6,7,8,9])\n",
    "    #print('outputs: ',lb.transform(x))\n",
    "    return lb.transform(x)\n",
    "\n",
    "\n",
    "\"\"\"\n",
    "DON'T MODIFY ANYTHING IN THIS CELL THAT IS BELOW THIS LINE\n",
    "\"\"\"\n",
    "tests.test_one_hot_encode(one_hot_encode)"
   ]
  },
  {
   "cell_type": "markdown",
   "metadata": {},
   "source": [
    "### Randomize Data\n",
    "As you saw from exploring the data above, the order of the samples are randomized.  It doesn't hurt to randomize it again, but you don't need to for this dataset."
   ]
  },
  {
   "cell_type": "markdown",
   "metadata": {},
   "source": [
    "## Preprocess all the data and save it\n",
    "Running the code cell below will preprocess all the CIFAR-10 data and save it to file. The code below also uses 10% of the training data for validation."
   ]
  },
  {
   "cell_type": "code",
   "execution_count": 5,
   "metadata": {
    "collapsed": true
   },
   "outputs": [],
   "source": [
    "\"\"\"\n",
    "DON'T MODIFY ANYTHING IN THIS CELL\n",
    "\"\"\"\n",
    "# Preprocess Training, Validation, and Testing Data\n",
    "helper.preprocess_and_save_data(cifar10_dataset_folder_path, normalize, one_hot_encode)"
   ]
  },
  {
   "cell_type": "markdown",
   "metadata": {},
   "source": [
    "# Check Point\n",
    "This is your first checkpoint.  If you ever decide to come back to this notebook or have to restart the notebook, you can start from here.  The preprocessed data has been saved to disk."
   ]
  },
  {
   "cell_type": "code",
   "execution_count": 6,
   "metadata": {
    "collapsed": true
   },
   "outputs": [],
   "source": [
    "\"\"\"\n",
    "DON'T MODIFY ANYTHING IN THIS CELL\n",
    "\"\"\"\n",
    "import pickle\n",
    "import problem_unittests as tests\n",
    "import helper\n",
    "\n",
    "# Load the Preprocessed Validation data\n",
    "valid_features, valid_labels = pickle.load(open('preprocess_validation.p', mode='rb'))"
   ]
  },
  {
   "cell_type": "markdown",
   "metadata": {},
   "source": [
    "## Build the network\n",
    "For the neural network, you'll build each layer into a function.  Most of the code you've seen has been outside of functions. To test your code more thoroughly, we require that you put each layer in a function.  This allows us to give you better feedback and test for simple mistakes using our unittests before you submit your project.\n",
    "\n",
    ">**Note:** If you're finding it hard to dedicate enough time for this course each week, we've provided a small shortcut to this part of the project. In the next couple of problems, you'll have the option to use classes from the [TensorFlow Layers](https://www.tensorflow.org/api_docs/python/tf/layers) or [TensorFlow Layers (contrib)](https://www.tensorflow.org/api_guides/python/contrib.layers) packages to build each layer, except the layers you build in the \"Convolutional and Max Pooling Layer\" section.  TF Layers is similar to Keras's and TFLearn's abstraction to layers, so it's easy to pickup.\n",
    "\n",
    ">However, if you would like to get the most out of this course, try to solve all the problems _without_ using anything from the TF Layers packages. You **can** still use classes from other packages that happen to have the same name as ones you find in TF Layers! For example, instead of using the TF Layers version of the `conv2d` class, [tf.layers.conv2d](https://www.tensorflow.org/api_docs/python/tf/layers/conv2d), you would want to use the TF Neural Network version of `conv2d`, [tf.nn.conv2d](https://www.tensorflow.org/api_docs/python/tf/nn/conv2d). \n",
    "\n",
    "Let's begin!\n",
    "\n",
    "### Input\n",
    "The neural network needs to read the image data, one-hot encoded labels, and dropout keep probability. Implement the following functions\n",
    "* Implement `neural_net_image_input`\n",
    " * Return a [TF Placeholder](https://www.tensorflow.org/api_docs/python/tf/placeholder)\n",
    " * Set the shape using `image_shape` with batch size set to `None`.\n",
    " * Name the TensorFlow placeholder \"x\" using the TensorFlow `name` parameter in the [TF Placeholder](https://www.tensorflow.org/api_docs/python/tf/placeholder).\n",
    "* Implement `neural_net_label_input`\n",
    " * Return a [TF Placeholder](https://www.tensorflow.org/api_docs/python/tf/placeholder)\n",
    " * Set the shape using `n_classes` with batch size set to `None`.\n",
    " * Name the TensorFlow placeholder \"y\" using the TensorFlow `name` parameter in the [TF Placeholder](https://www.tensorflow.org/api_docs/python/tf/placeholder).\n",
    "* Implement `neural_net_keep_prob_input`\n",
    " * Return a [TF Placeholder](https://www.tensorflow.org/api_docs/python/tf/placeholder) for dropout keep probability.\n",
    " * Name the TensorFlow placeholder \"keep_prob\" using the TensorFlow `name` parameter in the [TF Placeholder](https://www.tensorflow.org/api_docs/python/tf/placeholder).\n",
    "\n",
    "These names will be used at the end of the project to load your saved model.\n",
    "\n",
    "Note: `None` for shapes in TensorFlow allow for a dynamic size."
   ]
  },
  {
   "cell_type": "code",
   "execution_count": 33,
   "metadata": {},
   "outputs": [
    {
     "name": "stdout",
     "output_type": "stream",
     "text": [
      "Image Input Tests Passed.\n",
      "Label Input Tests Passed.\n",
      "Keep Prob Tests Passed.\n"
     ]
    }
   ],
   "source": [
    "import tensorflow as tf\n",
    "\n",
    "def neural_net_image_input(image_shape):\n",
    "    \"\"\"\n",
    "    Return a Tensor for a batch of image input\n",
    "    : image_shape: Shape of the images\n",
    "    : return: Tensor for image input.\n",
    "    \"\"\"\n",
    "    # TODO: Implement Function\n",
    "    input_x = tf.placeholder(tf.float32, shape=((None,) + image_shape), name='x')\n",
    "    #input_x = tf.placeholder(tf.float32, shape=(None, image_shape[0], image_shape[1], image_shape[2]), name='x')\n",
    "    return input_x\n",
    "\n",
    "\n",
    "def neural_net_label_input(n_classes):\n",
    "    \"\"\"\n",
    "    Return a Tensor for a batch of label input\n",
    "    : n_classes: Number of classes\n",
    "    : return: Tensor for label input.\n",
    "    \"\"\"\n",
    "    # TODO: Implement Function\n",
    "    input_y = tf.placeholder(tf.float32, shape=(None, n_classes), name='y')\n",
    "    return input_y\n",
    "\n",
    "\n",
    "def neural_net_keep_prob_input():\n",
    "    \"\"\"\n",
    "    Return a Tensor for keep probability\n",
    "    : return: Tensor for keep probability.\n",
    "    \"\"\"\n",
    "    # TODO: Implement Function\n",
    "    prob = tf.placeholder(tf.float32,shape=(None), name = 'keep_prob')\n",
    "    return prob\n",
    "\n",
    "\n",
    "\"\"\"\n",
    "DON'T MODIFY ANYTHING IN THIS CELL THAT IS BELOW THIS LINE\n",
    "\"\"\"\n",
    "tf.reset_default_graph()\n",
    "tests.test_nn_image_inputs(neural_net_image_input)\n",
    "tests.test_nn_label_inputs(neural_net_label_input)\n",
    "tests.test_nn_keep_prob_inputs(neural_net_keep_prob_input)"
   ]
  },
  {
   "cell_type": "markdown",
   "metadata": {},
   "source": [
    "### Convolution and Max Pooling Layer\n",
    "Convolution layers have a lot of success with images. For this code cell, you should implement the function `conv2d_maxpool` to apply convolution then max pooling:\n",
    "* Create the weight and bias using `conv_ksize`, `conv_num_outputs` and the shape of `x_tensor`.\n",
    "* Apply a convolution to `x_tensor` using weight and `conv_strides`.\n",
    " * We recommend you use same padding, but you're welcome to use any padding.\n",
    "* Add bias\n",
    "* Add a nonlinear activation to the convolution.\n",
    "* Apply Max Pooling using `pool_ksize` and `pool_strides`.\n",
    " * We recommend you use same padding, but you're welcome to use any padding.\n",
    "\n",
    "**Note:** You **can't** use [TensorFlow Layers](https://www.tensorflow.org/api_docs/python/tf/layers) or [TensorFlow Layers (contrib)](https://www.tensorflow.org/api_guides/python/contrib.layers) for **this** layer, but you can still use TensorFlow's [Neural Network](https://www.tensorflow.org/api_docs/python/tf/nn) package. You may still use the shortcut option for all the **other** layers.\n",
    "\n",
    "** Hint: **\n",
    "\n",
    "When unpacking values as an argument in Python, look into the [unpacking](https://docs.python.org/3/tutorial/controlflow.html#unpacking-argument-lists) operator. "
   ]
  },
  {
   "cell_type": "code",
   "execution_count": 89,
   "metadata": {},
   "outputs": [
    {
     "name": "stdout",
     "output_type": "stream",
     "text": [
      "input shape:  [None, 32, 32, 5]\n",
      "Convolutional layer with conv_num_outputs: 10\n",
      "conv_ksize: (2, 2)\n",
      "weights shape:  [2, 2, 5, 10]\n",
      "conv_strides: (1, 4, 4, 1)\n",
      "layer shape after convolution:  [None, 8, 8, 10]\n",
      "\n",
      "\n",
      "pool_ksize: (2, 2)\n",
      "pool_strides (2, 2)\n",
      "layer input shape before pooling:  [None, 8, 8, 10]\n",
      "layer output shape after pooling:  [None, 4, 4, 10]\n",
      "\n",
      "\n",
      "Tests Passed\n"
     ]
    }
   ],
   "source": [
    "def conv2d_maxpool(x_tensor, conv_num_outputs, conv_ksize, conv_strides, pool_ksize, pool_strides):\n",
    "    \"\"\"\n",
    "    Apply convolution then max pooling to x_tensor\n",
    "    :param x_tensor: TensorFlow Tensor\n",
    "    :param conv_num_outputs: Number of outputs for the convolutional layer\n",
    "    :param conv_ksize: kernal size 2-D Tuple for the convolutional layer\n",
    "    :param conv_strides: Stride 2-D Tuple for convolution\n",
    "    :param pool_ksize: kernal size 2-D Tuple for pool\n",
    "    :param pool_strides: Stride 2-D Tuple for pool\n",
    "    : return: A tensor that represents convolution and max pooling of x_tensor\n",
    "    \"\"\"\n",
    "    # TODO: Implement Function\n",
    "    \n",
    "    # Create filter dimensions\n",
    "    filter_height, filter_width, in_channels, out_channels = \\\n",
    "        conv_ksize[0], conv_ksize[1],  x_tensor.get_shape().as_list()[3], conv_num_outputs\n",
    "    conv_filter = [filter_height, filter_width, in_channels, out_channels]\n",
    "    \n",
    "    \n",
    "    # Create weights and bias\n",
    "    weights = tf.Variable(tf.truncated_normal(conv_filter, stddev=0.05))\n",
    "    bias = tf.Variable(tf.truncated_normal([conv_num_outputs], stddev=0.05))\n",
    "    print('input shape: ', x_tensor.get_shape().as_list())\n",
    "    print('Convolutional layer with conv_num_outputs:',conv_num_outputs)\n",
    "    print('conv_ksize:', conv_ksize)\n",
    "    print('weights shape: ',weights.get_shape().as_list())\n",
    "    \n",
    "    # Create strides\n",
    "    strides=(1,conv_strides[0], conv_strides[1], 1)\n",
    "    print('conv_strides:', strides)\n",
    "    \n",
    "    # Bind all together to create the layer\n",
    "    conv = tf.nn.conv2d(x_tensor, weights, strides, padding='SAME')\n",
    "    conv = tf.nn.bias_add(conv, bias)\n",
    "    print('layer shape after convolution: ',conv.get_shape().as_list())\n",
    "    print('\\n')\n",
    "    \n",
    "    # Add a nonlinear activation to the convolution\n",
    "    conv = tf.nn.relu(conv)\n",
    "    \n",
    "    # Create ksize \n",
    "    ksize = (1, pool_ksize[0], pool_ksize[1], 1)\n",
    "    \n",
    "    # Create strides\n",
    "    strides=(1,pool_strides[0], pool_strides[1], 1)\n",
    "    \n",
    "    pool = tf.nn.max_pool(conv, ksize, strides, padding='SAME')\n",
    "    print('pool_ksize:',pool_ksize)\n",
    "    print('pool_strides', pool_strides)\n",
    "    print('layer input shape before pooling: ', conv.get_shape().as_list())\n",
    "    print('layer output shape after pooling: ', pool.get_shape().as_list())\n",
    "    print('\\n')\n",
    "    \n",
    "    return pool\n",
    "\n",
    "\n",
    "\"\"\"\n",
    "DON'T MODIFY ANYTHING IN THIS CELL THAT IS BELOW THIS LINE\n",
    "\"\"\"\n",
    "tests.test_con_pool(conv2d_maxpool)"
   ]
  },
  {
   "cell_type": "markdown",
   "metadata": {},
   "source": [
    "### Flatten Layer\n",
    "Implement the `flatten` function to change the dimension of `x_tensor` from a 4-D tensor to a 2-D tensor.  The output should be the shape (*Batch Size*, *Flattened Image Size*). Shortcut option: you can use classes from the [TensorFlow Layers](https://www.tensorflow.org/api_docs/python/tf/layers) or [TensorFlow Layers (contrib)](https://www.tensorflow.org/api_guides/python/contrib.layers) packages for this layer. For more of a challenge, only use other TensorFlow packages."
   ]
  },
  {
   "cell_type": "code",
   "execution_count": 85,
   "metadata": {},
   "outputs": [
    {
     "name": "stdout",
     "output_type": "stream",
     "text": [
      "x_tensor shape:  [None, 10, 30, 6]\n",
      "flatten shape: [None, 1800]\n",
      "Tests Passed\n"
     ]
    }
   ],
   "source": [
    "def flatten(x_tensor):\n",
    "    \"\"\"\n",
    "    Flatten x_tensor to (Batch Size, Flattened Image Size)\n",
    "    : x_tensor: A tensor of size (Batch Size, ...), where ... are the image dimensions.\n",
    "    : return: A tensor of size (Batch Size, Flattened Image Size).\n",
    "    \"\"\"\n",
    "    # TODO: Implement Function\n",
    "    _, height, width, channels = x_tensor.get_shape().as_list()\n",
    "    net = tf.reshape(x_tensor, shape=[-1, height * width * channels])\n",
    "    print('x_tensor shape: ',x_tensor.get_shape().as_list())\n",
    "    print('flatten shape:', net.get_shape().as_list())\n",
    "    return net\n",
    "\n",
    "\n",
    "\"\"\"\n",
    "DON'T MODIFY ANYTHING IN THIS CELL THAT IS BELOW THIS LINE\n",
    "\"\"\"\n",
    "tests.test_flatten(flatten)"
   ]
  },
  {
   "cell_type": "markdown",
   "metadata": {},
   "source": [
    "### Fully-Connected Layer\n",
    "Implement the `fully_conn` function to apply a fully connected layer to `x_tensor` with the shape (*Batch Size*, *num_outputs*). Shortcut option: you can use classes from the [TensorFlow Layers](https://www.tensorflow.org/api_docs/python/tf/layers) or [TensorFlow Layers (contrib)](https://www.tensorflow.org/api_guides/python/contrib.layers) packages for this layer. For more of a challenge, only use other TensorFlow packages."
   ]
  },
  {
   "cell_type": "code",
   "execution_count": 86,
   "metadata": {},
   "outputs": [
    {
     "name": "stdout",
     "output_type": "stream",
     "text": [
      "layer input shape [None, 128] layer output shape [None, 40]\n",
      "Tests Passed\n"
     ]
    }
   ],
   "source": [
    "def fully_conn(x_tensor, num_outputs):\n",
    "    \"\"\"\n",
    "    Apply a fully connected layer to x_tensor using weight and bias\n",
    "    : x_tensor: A 2-D tensor where the first dimension is batch size.\n",
    "    : num_outputs: The number of output that the new tensor should be.\n",
    "    : return: A 2-D tensor where the second dimension is num_outputs.\n",
    "    \"\"\"\n",
    "    # TODO: Implement Function\n",
    "\n",
    "    _, size = x_tensor.get_shape().as_list()\n",
    "    weights = tf.Variable(tf.truncated_normal([size, num_outputs], stddev=0.05))\n",
    "    bias = tf.Variable(tf.truncated_normal([num_outputs], stddev=0.05))\n",
    "    \n",
    "    fully_connected = tf.add(tf.matmul(x_tensor, weights), bias)\n",
    "    \n",
    "    print('layer input shape', x_tensor.get_shape().as_list(),\n",
    "         'layer output shape', fully_connected.get_shape().as_list())\n",
    "    \n",
    "    return fully_connected\n",
    "\n",
    "\n",
    "\"\"\"\n",
    "DON'T MODIFY ANYTHING IN THIS CELL THAT IS BELOW THIS LINE\n",
    "\"\"\"\n",
    "tests.test_fully_conn(fully_conn)"
   ]
  },
  {
   "cell_type": "markdown",
   "metadata": {},
   "source": [
    "### Output Layer\n",
    "Implement the `output` function to apply a fully connected layer to `x_tensor` with the shape (*Batch Size*, *num_outputs*). Shortcut option: you can use classes from the [TensorFlow Layers](https://www.tensorflow.org/api_docs/python/tf/layers) or [TensorFlow Layers (contrib)](https://www.tensorflow.org/api_guides/python/contrib.layers) packages for this layer. For more of a challenge, only use other TensorFlow packages.\n",
    "\n",
    "**Note:** Activation, softmax, or cross entropy should **not** be applied to this."
   ]
  },
  {
   "cell_type": "code",
   "execution_count": 87,
   "metadata": {},
   "outputs": [
    {
     "name": "stdout",
     "output_type": "stream",
     "text": [
      "layer input shape [None, 128] layer output shape [None, 40]\n",
      "Tests Passed\n"
     ]
    }
   ],
   "source": [
    "def output(x_tensor, num_outputs):\n",
    "    \"\"\"\n",
    "    Apply a output layer to x_tensor using weight and bias\n",
    "    : x_tensor: A 2-D tensor where the first dimension is batch size.\n",
    "    : num_outputs: The number of output that the new tensor should be.\n",
    "    : return: A 2-D tensor where the second dimension is num_outputs.\n",
    "    \"\"\"\n",
    "    # TODO: Implement Function\n",
    "    _, size = x_tensor.get_shape().as_list()\n",
    "    weights = tf.Variable(tf.truncated_normal([size, num_outputs], stddev=0.05))\n",
    "    bias = tf.Variable(tf.truncated_normal([num_outputs], stddev=0.05))\n",
    "    \n",
    "    fully_connected = tf.add(tf.matmul(x_tensor, weights), bias)\n",
    "    \n",
    "    print('layer input shape', x_tensor.get_shape().as_list(),\n",
    "         'layer output shape', fully_connected.get_shape().as_list())\n",
    "    \n",
    "    return fully_connected\n",
    "\n",
    "\n",
    "\"\"\"\n",
    "DON'T MODIFY ANYTHING IN THIS CELL THAT IS BELOW THIS LINE\n",
    "\"\"\"\n",
    "tests.test_output(output)"
   ]
  },
  {
   "cell_type": "markdown",
   "metadata": {},
   "source": [
    "### Create Convolutional Model\n",
    "Implement the function `conv_net` to create a convolutional neural network model. The function takes in a batch of images, `x`, and outputs logits.  Use the layers you created above to create this model:\n",
    "\n",
    "* Apply 1, 2, or 3 Convolution and Max Pool layers\n",
    "* Apply a Flatten Layer\n",
    "* Apply 1, 2, or 3 Fully Connected Layers\n",
    "* Apply an Output Layer\n",
    "* Return the output\n",
    "* Apply [TensorFlow's Dropout](https://www.tensorflow.org/api_docs/python/tf/nn/dropout) to one or more layers in the model using `keep_prob`. "
   ]
  },
  {
   "cell_type": "code",
   "execution_count": 90,
   "metadata": {},
   "outputs": [
    {
     "name": "stdout",
     "output_type": "stream",
     "text": [
      "input shape:  [None, 32, 32, 3]\n",
      "Convolutional layer with conv_num_outputs: 32\n",
      "conv_ksize: (2, 2)\n",
      "weights shape:  [2, 2, 3, 32]\n",
      "conv_strides: (1, 1, 1, 1)\n",
      "layer shape after convolution:  [None, 32, 32, 32]\n",
      "\n",
      "\n",
      "pool_ksize: (2, 2)\n",
      "pool_strides (2, 2)\n",
      "layer input shape before pooling:  [None, 32, 32, 32]\n",
      "layer output shape after pooling:  [None, 16, 16, 32]\n",
      "\n",
      "\n",
      "input shape:  [None, 16, 16, 32]\n",
      "Convolutional layer with conv_num_outputs: 32\n",
      "conv_ksize: (2, 2)\n",
      "weights shape:  [2, 2, 32, 32]\n",
      "conv_strides: (1, 1, 1, 1)\n",
      "layer shape after convolution:  [None, 16, 16, 32]\n",
      "\n",
      "\n",
      "pool_ksize: (2, 2)\n",
      "pool_strides (2, 2)\n",
      "layer input shape before pooling:  [None, 16, 16, 32]\n",
      "layer output shape after pooling:  [None, 8, 8, 32]\n",
      "\n",
      "\n",
      "x_tensor shape:  [None, 8, 8, 32]\n",
      "flatten shape: [None, 2048]\n",
      "layer input shape [None, 2048] layer output shape [None, 384]\n",
      "layer input shape [None, 384] layer output shape [None, 192]\n",
      "layer input shape [None, 192] layer output shape [None, 10]\n",
      "input shape:  [None, 32, 32, 3]\n",
      "Convolutional layer with conv_num_outputs: 32\n",
      "conv_ksize: (2, 2)\n",
      "weights shape:  [2, 2, 3, 32]\n",
      "conv_strides: (1, 1, 1, 1)\n",
      "layer shape after convolution:  [None, 32, 32, 32]\n",
      "\n",
      "\n",
      "pool_ksize: (2, 2)\n",
      "pool_strides (2, 2)\n",
      "layer input shape before pooling:  [None, 32, 32, 32]\n",
      "layer output shape after pooling:  [None, 16, 16, 32]\n",
      "\n",
      "\n",
      "input shape:  [None, 16, 16, 32]\n",
      "Convolutional layer with conv_num_outputs: 32\n",
      "conv_ksize: (2, 2)\n",
      "weights shape:  [2, 2, 32, 32]\n",
      "conv_strides: (1, 1, 1, 1)\n",
      "layer shape after convolution:  [None, 16, 16, 32]\n",
      "\n",
      "\n",
      "pool_ksize: (2, 2)\n",
      "pool_strides (2, 2)\n",
      "layer input shape before pooling:  [None, 16, 16, 32]\n",
      "layer output shape after pooling:  [None, 8, 8, 32]\n",
      "\n",
      "\n",
      "x_tensor shape:  [None, 8, 8, 32]\n",
      "flatten shape: [None, 2048]\n",
      "layer input shape [None, 2048] layer output shape [None, 384]\n",
      "layer input shape [None, 384] layer output shape [None, 192]\n",
      "layer input shape [None, 192] layer output shape [None, 10]\n",
      "Neural Network Built!\n"
     ]
    }
   ],
   "source": [
    "def conv_net(x, keep_prob):\n",
    "    \"\"\"\n",
    "    Create a convolutional neural network model\n",
    "    : x: Placeholder tensor that holds image data.\n",
    "    : keep_prob: Placeholder tensor that hold dropout keep probability.\n",
    "    : return: Tensor that represents logits\n",
    "    \"\"\"\n",
    "    # TODO: Apply 1, 2, or 3 Convolution and Max Pool layers\n",
    "    #    Play around with different number of outputs, kernel size and stride\n",
    "    # Function Definition from Above:\n",
    "    #    conv2d_maxpool(x_tensor, conv_num_outputs, conv_ksize, conv_strides, pool_ksize, pool_strides)\n",
    "    \n",
    "    layer = conv2d_maxpool(x, conv_num_outputs = 32, conv_ksize = (2,2), conv_strides = (1,1), \\\n",
    "                           pool_ksize = (2,2), pool_strides = (2,2))\n",
    "    \n",
    "    layer = conv2d_maxpool(layer, conv_num_outputs = 32, conv_ksize = (2,2), conv_strides = (1,1), \\\n",
    "                           pool_ksize = (2,2), pool_strides = (2,2))\n",
    "\n",
    "    # TODO: Apply a Flatten Layer\n",
    "    # Function Definition from Above:\n",
    "    #   flatten(x_tensor)\n",
    "    flattened_layer = flatten(layer)\n",
    "    \n",
    "\n",
    "    # TODO: Apply 1, 2, or 3 Fully Connected Layers\n",
    "    #    Play around with different number of outputs\n",
    "    # Function Definition from Above:\n",
    "    #   fully_conn(x_tensor, num_outputs)\n",
    "    layer = fully_conn(flattened_layer, 384)\n",
    "    layer = fully_conn(layer, 192)\n",
    "    \n",
    "    # Dropout layer.\n",
    "    fc = tf.nn.dropout(layer, keep_prob)\n",
    "    \n",
    "    # TODO: Apply an Output Layer\n",
    "    #    Set this to the number of classes\n",
    "    # Function Definition from Above:\n",
    "    #   output(x_tensor, num_outputs)\n",
    "    # TODO: return output\n",
    "    return output(fc, num_outputs=10)\n",
    "\n",
    "\n",
    "\"\"\"\n",
    "DON'T MODIFY ANYTHING IN THIS CELL THAT IS BELOW THIS LINE\n",
    "\"\"\"\n",
    "\n",
    "##############################\n",
    "## Build the Neural Network ##\n",
    "##############################\n",
    "\n",
    "# Remove previous weights, bias, inputs, etc..\n",
    "tf.reset_default_graph()\n",
    "\n",
    "# Inputs\n",
    "x = neural_net_image_input((32, 32, 3))\n",
    "y = neural_net_label_input(10)\n",
    "keep_prob = neural_net_keep_prob_input()\n",
    "\n",
    "# Model\n",
    "logits = conv_net(x, keep_prob)\n",
    "\n",
    "# Name logits Tensor, so that is can be loaded from disk after training\n",
    "logits = tf.identity(logits, name='logits')\n",
    "\n",
    "# Loss and Optimizer\n",
    "cost = tf.reduce_mean(tf.nn.softmax_cross_entropy_with_logits(logits=logits, labels=y))\n",
    "optimizer = tf.train.AdamOptimizer().minimize(cost)\n",
    "\n",
    "# Accuracy\n",
    "correct_pred = tf.equal(tf.argmax(logits, 1), tf.argmax(y, 1))\n",
    "accuracy = tf.reduce_mean(tf.cast(correct_pred, tf.float32), name='accuracy')\n",
    "\n",
    "tests.test_conv_net(conv_net)"
   ]
  },
  {
   "cell_type": "markdown",
   "metadata": {},
   "source": [
    "## Train the Neural Network\n",
    "### Single Optimization\n",
    "Implement the function `train_neural_network` to do a single optimization.  The optimization should use `optimizer` to optimize in `session` with a `feed_dict` of the following:\n",
    "* `x` for image input\n",
    "* `y` for labels\n",
    "* `keep_prob` for keep probability for dropout\n",
    "\n",
    "This function will be called for each batch, so `tf.global_variables_initializer()` has already been called.\n",
    "\n",
    "Note: Nothing needs to be returned. This function is only optimizing the neural network."
   ]
  },
  {
   "cell_type": "code",
   "execution_count": 98,
   "metadata": {},
   "outputs": [
    {
     "name": "stdout",
     "output_type": "stream",
     "text": [
      "Tests Passed\n"
     ]
    }
   ],
   "source": [
    "def train_neural_network(session, optimizer, keep_probability, feature_batch, label_batch):\n",
    "    \"\"\"\n",
    "    Optimize the session on a batch of images and labels\n",
    "    : session: Current TensorFlow session\n",
    "    : optimizer: TensorFlow optimizer function\n",
    "    : keep_probability: keep probability\n",
    "    : feature_batch: Batch of Numpy image data\n",
    "    : label_batch: Batch of Numpy label data\n",
    "    \"\"\"\n",
    "    # TODO: Implement Function\n",
    "    session.run(optimizer, feed_dict={x:feature_batch, y: label_batch, keep_prob: keep_probability})\n",
    "\n",
    "\"\"\"\n",
    "DON'T MODIFY ANYTHING IN THIS CELL THAT IS BELOW THIS LINE\n",
    "\"\"\"\n",
    "tests.test_train_nn(train_neural_network)"
   ]
  },
  {
   "cell_type": "markdown",
   "metadata": {},
   "source": [
    "### Show Stats\n",
    "Implement the function `print_stats` to print loss and validation accuracy.  Use the global variables `valid_features` and `valid_labels` to calculate validation accuracy.  Use a keep probability of `1.0` to calculate the loss and validation accuracy."
   ]
  },
  {
   "cell_type": "code",
   "execution_count": 108,
   "metadata": {
    "collapsed": true
   },
   "outputs": [],
   "source": [
    "def print_stats(session, feature_batch, label_batch, cost, accuracy):\n",
    "    \"\"\"\n",
    "    Print information about loss and validation accuracy\n",
    "    : session: Current TensorFlow session\n",
    "    : feature_batch: Batch of Numpy image data\n",
    "    : label_batch: Batch of Numpy label data\n",
    "    : cost: TensorFlow cost function\n",
    "    : accuracy: TensorFlow accuracy function\n",
    "    \"\"\"\n",
    "    # TODO: Implement Function\n",
    "    loss = sess.run(cost, feed_dict={x: feature_batch,\n",
    "                                     y: label_batch,\n",
    "                                     keep_prob: 1.})\n",
    "    valid_acc = sess.run(accuracy, feed_dict={x: valid_features,\n",
    "                                              y: valid_labels,\n",
    "                                              keep_prob: 1.})\n",
    "\n",
    "    print('Loss: {:>10.4f} , Validation Accuracy: {:.6f}'.format(loss, valid_acc))\n",
    "    "
   ]
  },
  {
   "cell_type": "markdown",
   "metadata": {},
   "source": [
    "### Hyperparameters\n",
    "Tune the following parameters:\n",
    "* Set `epochs` to the number of iterations until the network stops learning or start overfitting\n",
    "* Set `batch_size` to the highest number that your machine has memory for.  Most people set them to common sizes of memory:\n",
    " * 64\n",
    " * 128\n",
    " * 256\n",
    " * ...\n",
    "* Set `keep_probability` to the probability of keeping a node using dropout"
   ]
  },
  {
   "cell_type": "code",
   "execution_count": 109,
   "metadata": {
    "collapsed": true
   },
   "outputs": [],
   "source": [
    "# TODO: Tune Parameters\n",
    "epochs = 40\n",
    "batch_size = 256\n",
    "keep_probability = 0.5"
   ]
  },
  {
   "cell_type": "markdown",
   "metadata": {},
   "source": [
    "### Train on a Single CIFAR-10 Batch\n",
    "Instead of training the neural network on all the CIFAR-10 batches of data, let's use a single batch. This should save time while you iterate on the model to get a better accuracy.  Once the final validation accuracy is 50% or greater, run the model on all the data in the next section."
   ]
  },
  {
   "cell_type": "code",
   "execution_count": 110,
   "metadata": {},
   "outputs": [
    {
     "name": "stdout",
     "output_type": "stream",
     "text": [
      "Checking the Training on a Single Batch...\n",
      "Epoch  1, CIFAR-10 Batch 1:  Loss:     2.1561 , Validation Accuracy: 0.288200\n",
      "Epoch  2, CIFAR-10 Batch 1:  Loss:     1.8647 , Validation Accuracy: 0.396200\n",
      "Epoch  3, CIFAR-10 Batch 1:  Loss:     1.6632 , Validation Accuracy: 0.437000\n",
      "Epoch  4, CIFAR-10 Batch 1:  Loss:     1.5164 , Validation Accuracy: 0.461200\n",
      "Epoch  5, CIFAR-10 Batch 1:  Loss:     1.3576 , Validation Accuracy: 0.476600\n",
      "Epoch  6, CIFAR-10 Batch 1:  Loss:     1.2461 , Validation Accuracy: 0.487200\n",
      "Epoch  7, CIFAR-10 Batch 1:  Loss:     1.1334 , Validation Accuracy: 0.500000\n",
      "Epoch  8, CIFAR-10 Batch 1:  Loss:     1.0361 , Validation Accuracy: 0.507000\n",
      "Epoch  9, CIFAR-10 Batch 1:  Loss:     0.9814 , Validation Accuracy: 0.518600\n",
      "Epoch 10, CIFAR-10 Batch 1:  Loss:     0.8802 , Validation Accuracy: 0.516400\n",
      "Epoch 11, CIFAR-10 Batch 1:  Loss:     0.8367 , Validation Accuracy: 0.523000\n",
      "Epoch 12, CIFAR-10 Batch 1:  Loss:     0.7294 , Validation Accuracy: 0.531800\n",
      "Epoch 13, CIFAR-10 Batch 1:  Loss:     0.7185 , Validation Accuracy: 0.510400\n",
      "Epoch 14, CIFAR-10 Batch 1:  Loss:     0.6301 , Validation Accuracy: 0.535000\n",
      "Epoch 15, CIFAR-10 Batch 1:  Loss:     0.5791 , Validation Accuracy: 0.542400\n",
      "Epoch 16, CIFAR-10 Batch 1:  Loss:     0.5362 , Validation Accuracy: 0.529600\n",
      "Epoch 17, CIFAR-10 Batch 1:  Loss:     0.4816 , Validation Accuracy: 0.543200\n",
      "Epoch 18, CIFAR-10 Batch 1:  Loss:     0.4309 , Validation Accuracy: 0.552800\n",
      "Epoch 19, CIFAR-10 Batch 1:  Loss:     0.4038 , Validation Accuracy: 0.547000\n",
      "Epoch 20, CIFAR-10 Batch 1:  Loss:     0.3604 , Validation Accuracy: 0.548200\n",
      "Epoch 21, CIFAR-10 Batch 1:  Loss:     0.3236 , Validation Accuracy: 0.549600\n",
      "Epoch 22, CIFAR-10 Batch 1:  Loss:     0.2938 , Validation Accuracy: 0.559600\n",
      "Epoch 23, CIFAR-10 Batch 1:  Loss:     0.2580 , Validation Accuracy: 0.558200\n",
      "Epoch 24, CIFAR-10 Batch 1:  Loss:     0.2480 , Validation Accuracy: 0.550800\n",
      "Epoch 25, CIFAR-10 Batch 1:  Loss:     0.2418 , Validation Accuracy: 0.552400\n",
      "Epoch 26, CIFAR-10 Batch 1:  Loss:     0.2263 , Validation Accuracy: 0.548800\n",
      "Epoch 27, CIFAR-10 Batch 1:  Loss:     0.1703 , Validation Accuracy: 0.544800\n",
      "Epoch 28, CIFAR-10 Batch 1:  Loss:     0.1671 , Validation Accuracy: 0.552000\n",
      "Epoch 29, CIFAR-10 Batch 1:  Loss:     0.1875 , Validation Accuracy: 0.535200\n",
      "Epoch 30, CIFAR-10 Batch 1:  Loss:     0.1645 , Validation Accuracy: 0.529600\n",
      "Epoch 31, CIFAR-10 Batch 1:  Loss:     0.1301 , Validation Accuracy: 0.540000\n",
      "Epoch 32, CIFAR-10 Batch 1:  Loss:     0.1400 , Validation Accuracy: 0.533000\n",
      "Epoch 33, CIFAR-10 Batch 1:  Loss:     0.1491 , Validation Accuracy: 0.537400\n",
      "Epoch 34, CIFAR-10 Batch 1:  Loss:     0.1576 , Validation Accuracy: 0.537200\n",
      "Epoch 35, CIFAR-10 Batch 1:  Loss:     0.1474 , Validation Accuracy: 0.537600\n",
      "Epoch 36, CIFAR-10 Batch 1:  Loss:     0.1760 , Validation Accuracy: 0.526800\n",
      "Epoch 37, CIFAR-10 Batch 1:  Loss:     0.1555 , Validation Accuracy: 0.530400\n",
      "Epoch 38, CIFAR-10 Batch 1:  Loss:     0.1546 , Validation Accuracy: 0.540000\n",
      "Epoch 39, CIFAR-10 Batch 1:  Loss:     0.1474 , Validation Accuracy: 0.532400\n",
      "Epoch 40, CIFAR-10 Batch 1:  Loss:     0.1335 , Validation Accuracy: 0.529800\n"
     ]
    }
   ],
   "source": [
    "\"\"\"\n",
    "DON'T MODIFY ANYTHING IN THIS CELL\n",
    "\"\"\"\n",
    "print('Checking the Training on a Single Batch...')\n",
    "with tf.Session() as sess:\n",
    "    # Initializing the variables\n",
    "    sess.run(tf.global_variables_initializer())\n",
    "    \n",
    "    # Training cycle\n",
    "    for epoch in range(epochs):\n",
    "        batch_i = 1\n",
    "        for batch_features, batch_labels in helper.load_preprocess_training_batch(batch_i, batch_size):\n",
    "            train_neural_network(sess, optimizer, keep_probability, batch_features, batch_labels)\n",
    "        print('Epoch {:>2}, CIFAR-10 Batch {}:  '.format(epoch + 1, batch_i), end='')\n",
    "        print_stats(sess, batch_features, batch_labels, cost, accuracy)"
   ]
  },
  {
   "cell_type": "markdown",
   "metadata": {},
   "source": [
    "### Fully Train the Model\n",
    "Now that you got a good accuracy with a single CIFAR-10 batch, try it with all five batches."
   ]
  },
  {
   "cell_type": "code",
   "execution_count": 111,
   "metadata": {},
   "outputs": [
    {
     "name": "stdout",
     "output_type": "stream",
     "text": [
      "Training...\n",
      "Epoch  1, CIFAR-10 Batch 1:  Loss:     2.1714 , Validation Accuracy: 0.270000\n",
      "Epoch  1, CIFAR-10 Batch 2:  Loss:     1.9233 , Validation Accuracy: 0.348600\n",
      "Epoch  1, CIFAR-10 Batch 3:  Loss:     1.5246 , Validation Accuracy: 0.392200\n",
      "Epoch  1, CIFAR-10 Batch 4:  Loss:     1.5519 , Validation Accuracy: 0.435600\n",
      "Epoch  1, CIFAR-10 Batch 5:  Loss:     1.5852 , Validation Accuracy: 0.440000\n",
      "Epoch  2, CIFAR-10 Batch 1:  Loss:     1.6527 , Validation Accuracy: 0.463200\n",
      "Epoch  2, CIFAR-10 Batch 2:  Loss:     1.4186 , Validation Accuracy: 0.480600\n",
      "Epoch  2, CIFAR-10 Batch 3:  Loss:     1.1519 , Validation Accuracy: 0.442800\n",
      "Epoch  2, CIFAR-10 Batch 4:  Loss:     1.2514 , Validation Accuracy: 0.518200\n",
      "Epoch  2, CIFAR-10 Batch 5:  Loss:     1.2865 , Validation Accuracy: 0.511200\n",
      "Epoch  3, CIFAR-10 Batch 1:  Loss:     1.4241 , Validation Accuracy: 0.527000\n",
      "Epoch  3, CIFAR-10 Batch 2:  Loss:     1.2614 , Validation Accuracy: 0.517000\n",
      "Epoch  3, CIFAR-10 Batch 3:  Loss:     1.0040 , Validation Accuracy: 0.501400\n",
      "Epoch  3, CIFAR-10 Batch 4:  Loss:     1.1011 , Validation Accuracy: 0.539200\n",
      "Epoch  3, CIFAR-10 Batch 5:  Loss:     1.2019 , Validation Accuracy: 0.546000\n",
      "Epoch  4, CIFAR-10 Batch 1:  Loss:     1.3269 , Validation Accuracy: 0.557200\n",
      "Epoch  4, CIFAR-10 Batch 2:  Loss:     1.0847 , Validation Accuracy: 0.547800\n",
      "Epoch  4, CIFAR-10 Batch 3:  Loss:     0.8798 , Validation Accuracy: 0.554400\n",
      "Epoch  4, CIFAR-10 Batch 4:  Loss:     0.9504 , Validation Accuracy: 0.553000\n",
      "Epoch  4, CIFAR-10 Batch 5:  Loss:     1.1124 , Validation Accuracy: 0.574600\n",
      "Epoch  5, CIFAR-10 Batch 1:  Loss:     1.2302 , Validation Accuracy: 0.569600\n",
      "Epoch  5, CIFAR-10 Batch 2:  Loss:     0.9662 , Validation Accuracy: 0.563800\n",
      "Epoch  5, CIFAR-10 Batch 3:  Loss:     0.7477 , Validation Accuracy: 0.583400\n",
      "Epoch  5, CIFAR-10 Batch 4:  Loss:     0.8441 , Validation Accuracy: 0.558000\n",
      "Epoch  5, CIFAR-10 Batch 5:  Loss:     0.9745 , Validation Accuracy: 0.584200\n",
      "Epoch  6, CIFAR-10 Batch 1:  Loss:     1.1943 , Validation Accuracy: 0.591600\n",
      "Epoch  6, CIFAR-10 Batch 2:  Loss:     0.8575 , Validation Accuracy: 0.592000\n",
      "Epoch  6, CIFAR-10 Batch 3:  Loss:     0.6823 , Validation Accuracy: 0.588200\n",
      "Epoch  6, CIFAR-10 Batch 4:  Loss:     0.7590 , Validation Accuracy: 0.572600\n",
      "Epoch  6, CIFAR-10 Batch 5:  Loss:     0.8894 , Validation Accuracy: 0.592800\n",
      "Epoch  7, CIFAR-10 Batch 1:  Loss:     1.1041 , Validation Accuracy: 0.594400\n",
      "Epoch  7, CIFAR-10 Batch 2:  Loss:     0.8048 , Validation Accuracy: 0.596600\n",
      "Epoch  7, CIFAR-10 Batch 3:  Loss:     0.6250 , Validation Accuracy: 0.603600\n",
      "Epoch  7, CIFAR-10 Batch 4:  Loss:     0.6760 , Validation Accuracy: 0.587200\n",
      "Epoch  7, CIFAR-10 Batch 5:  Loss:     0.8212 , Validation Accuracy: 0.600200\n",
      "Epoch  8, CIFAR-10 Batch 1:  Loss:     1.0475 , Validation Accuracy: 0.612000\n",
      "Epoch  8, CIFAR-10 Batch 2:  Loss:     0.7238 , Validation Accuracy: 0.610800\n",
      "Epoch  8, CIFAR-10 Batch 3:  Loss:     0.5690 , Validation Accuracy: 0.606400\n",
      "Epoch  8, CIFAR-10 Batch 4:  Loss:     0.6070 , Validation Accuracy: 0.600000\n",
      "Epoch  8, CIFAR-10 Batch 5:  Loss:     0.7695 , Validation Accuracy: 0.599400\n",
      "Epoch  9, CIFAR-10 Batch 1:  Loss:     1.0135 , Validation Accuracy: 0.618800\n",
      "Epoch  9, CIFAR-10 Batch 2:  Loss:     0.6453 , Validation Accuracy: 0.618400\n",
      "Epoch  9, CIFAR-10 Batch 3:  Loss:     0.4975 , Validation Accuracy: 0.621200\n",
      "Epoch  9, CIFAR-10 Batch 4:  Loss:     0.5622 , Validation Accuracy: 0.601800\n",
      "Epoch  9, CIFAR-10 Batch 5:  Loss:     0.7241 , Validation Accuracy: 0.587800\n",
      "Epoch 10, CIFAR-10 Batch 1:  Loss:     0.9250 , Validation Accuracy: 0.627400\n",
      "Epoch 10, CIFAR-10 Batch 2:  Loss:     0.5975 , Validation Accuracy: 0.621800\n",
      "Epoch 10, CIFAR-10 Batch 3:  Loss:     0.4656 , Validation Accuracy: 0.616200\n",
      "Epoch 10, CIFAR-10 Batch 4:  Loss:     0.5368 , Validation Accuracy: 0.610400\n",
      "Epoch 10, CIFAR-10 Batch 5:  Loss:     0.6472 , Validation Accuracy: 0.603600\n",
      "Epoch 11, CIFAR-10 Batch 1:  Loss:     0.8444 , Validation Accuracy: 0.634200\n",
      "Epoch 11, CIFAR-10 Batch 2:  Loss:     0.5605 , Validation Accuracy: 0.624200\n",
      "Epoch 11, CIFAR-10 Batch 3:  Loss:     0.4274 , Validation Accuracy: 0.619000\n",
      "Epoch 11, CIFAR-10 Batch 4:  Loss:     0.5029 , Validation Accuracy: 0.619200\n",
      "Epoch 11, CIFAR-10 Batch 5:  Loss:     0.5978 , Validation Accuracy: 0.614600\n",
      "Epoch 12, CIFAR-10 Batch 1:  Loss:     0.8039 , Validation Accuracy: 0.638000\n",
      "Epoch 12, CIFAR-10 Batch 2:  Loss:     0.4891 , Validation Accuracy: 0.628200\n",
      "Epoch 12, CIFAR-10 Batch 3:  Loss:     0.3985 , Validation Accuracy: 0.631600\n",
      "Epoch 12, CIFAR-10 Batch 4:  Loss:     0.4595 , Validation Accuracy: 0.622400\n",
      "Epoch 12, CIFAR-10 Batch 5:  Loss:     0.5663 , Validation Accuracy: 0.624400\n",
      "Epoch 13, CIFAR-10 Batch 1:  Loss:     0.7240 , Validation Accuracy: 0.635000\n",
      "Epoch 13, CIFAR-10 Batch 2:  Loss:     0.4957 , Validation Accuracy: 0.630200\n",
      "Epoch 13, CIFAR-10 Batch 3:  Loss:     0.4132 , Validation Accuracy: 0.622600\n",
      "Epoch 13, CIFAR-10 Batch 4:  Loss:     0.4635 , Validation Accuracy: 0.621200\n",
      "Epoch 13, CIFAR-10 Batch 5:  Loss:     0.5288 , Validation Accuracy: 0.632200\n",
      "Epoch 14, CIFAR-10 Batch 1:  Loss:     0.7084 , Validation Accuracy: 0.642200\n",
      "Epoch 14, CIFAR-10 Batch 2:  Loss:     0.4741 , Validation Accuracy: 0.628600\n",
      "Epoch 14, CIFAR-10 Batch 3:  Loss:     0.3774 , Validation Accuracy: 0.631800\n",
      "Epoch 14, CIFAR-10 Batch 4:  Loss:     0.4117 , Validation Accuracy: 0.630000\n",
      "Epoch 14, CIFAR-10 Batch 5:  Loss:     0.5079 , Validation Accuracy: 0.639000\n",
      "Epoch 15, CIFAR-10 Batch 1:  Loss:     0.6538 , Validation Accuracy: 0.644600\n",
      "Epoch 15, CIFAR-10 Batch 2:  Loss:     0.4840 , Validation Accuracy: 0.634000\n",
      "Epoch 15, CIFAR-10 Batch 3:  Loss:     0.3605 , Validation Accuracy: 0.641400\n",
      "Epoch 15, CIFAR-10 Batch 4:  Loss:     0.4345 , Validation Accuracy: 0.633800\n",
      "Epoch 15, CIFAR-10 Batch 5:  Loss:     0.5005 , Validation Accuracy: 0.641400\n",
      "Epoch 16, CIFAR-10 Batch 1:  Loss:     0.6153 , Validation Accuracy: 0.641200\n",
      "Epoch 16, CIFAR-10 Batch 2:  Loss:     0.4146 , Validation Accuracy: 0.635000\n",
      "Epoch 16, CIFAR-10 Batch 3:  Loss:     0.3749 , Validation Accuracy: 0.640600\n",
      "Epoch 16, CIFAR-10 Batch 4:  Loss:     0.4064 , Validation Accuracy: 0.639200\n",
      "Epoch 16, CIFAR-10 Batch 5:  Loss:     0.4718 , Validation Accuracy: 0.639600\n",
      "Epoch 17, CIFAR-10 Batch 1:  Loss:     0.5660 , Validation Accuracy: 0.646000\n",
      "Epoch 17, CIFAR-10 Batch 2:  Loss:     0.4178 , Validation Accuracy: 0.638800\n",
      "Epoch 17, CIFAR-10 Batch 3:  Loss:     0.3601 , Validation Accuracy: 0.644800\n",
      "Epoch 17, CIFAR-10 Batch 4:  Loss:     0.3785 , Validation Accuracy: 0.644200\n",
      "Epoch 17, CIFAR-10 Batch 5:  Loss:     0.4505 , Validation Accuracy: 0.639000\n",
      "Epoch 18, CIFAR-10 Batch 1:  Loss:     0.5610 , Validation Accuracy: 0.648800\n",
      "Epoch 18, CIFAR-10 Batch 2:  Loss:     0.4090 , Validation Accuracy: 0.647400\n",
      "Epoch 18, CIFAR-10 Batch 3:  Loss:     0.3643 , Validation Accuracy: 0.639600\n",
      "Epoch 18, CIFAR-10 Batch 4:  Loss:     0.3782 , Validation Accuracy: 0.641600\n",
      "Epoch 18, CIFAR-10 Batch 5:  Loss:     0.4599 , Validation Accuracy: 0.637800\n",
      "Epoch 19, CIFAR-10 Batch 1:  Loss:     0.5525 , Validation Accuracy: 0.647000\n",
      "Epoch 19, CIFAR-10 Batch 2:  Loss:     0.3787 , Validation Accuracy: 0.648400\n",
      "Epoch 19, CIFAR-10 Batch 3:  Loss:     0.3439 , Validation Accuracy: 0.641000\n",
      "Epoch 19, CIFAR-10 Batch 4:  Loss:     0.3632 , Validation Accuracy: 0.651000\n",
      "Epoch 19, CIFAR-10 Batch 5:  Loss:     0.4297 , Validation Accuracy: 0.643600\n",
      "Epoch 20, CIFAR-10 Batch 1:  Loss:     0.5076 , Validation Accuracy: 0.650400\n",
      "Epoch 20, CIFAR-10 Batch 2:  Loss:     0.3957 , Validation Accuracy: 0.641800\n",
      "Epoch 20, CIFAR-10 Batch 3:  Loss:     0.3376 , Validation Accuracy: 0.641200\n",
      "Epoch 20, CIFAR-10 Batch 4:  Loss:     0.3747 , Validation Accuracy: 0.639400\n",
      "Epoch 20, CIFAR-10 Batch 5:  Loss:     0.4162 , Validation Accuracy: 0.647000\n",
      "Epoch 21, CIFAR-10 Batch 1:  Loss:     0.4890 , Validation Accuracy: 0.648400\n",
      "Epoch 21, CIFAR-10 Batch 2:  Loss:     0.3403 , Validation Accuracy: 0.651800\n",
      "Epoch 21, CIFAR-10 Batch 3:  Loss:     0.3311 , Validation Accuracy: 0.645400\n",
      "Epoch 21, CIFAR-10 Batch 4:  Loss:     0.3531 , Validation Accuracy: 0.650000\n",
      "Epoch 21, CIFAR-10 Batch 5:  Loss:     0.3942 , Validation Accuracy: 0.642600\n"
     ]
    },
    {
     "name": "stdout",
     "output_type": "stream",
     "text": [
      "Epoch 22, CIFAR-10 Batch 1:  Loss:     0.4789 , Validation Accuracy: 0.650400\n",
      "Epoch 22, CIFAR-10 Batch 2:  Loss:     0.3525 , Validation Accuracy: 0.648200\n",
      "Epoch 22, CIFAR-10 Batch 3:  Loss:     0.3219 , Validation Accuracy: 0.648400\n",
      "Epoch 22, CIFAR-10 Batch 4:  Loss:     0.3826 , Validation Accuracy: 0.646000\n",
      "Epoch 22, CIFAR-10 Batch 5:  Loss:     0.4105 , Validation Accuracy: 0.642000\n",
      "Epoch 23, CIFAR-10 Batch 1:  Loss:     0.4719 , Validation Accuracy: 0.648800\n",
      "Epoch 23, CIFAR-10 Batch 2:  Loss:     0.3391 , Validation Accuracy: 0.650000\n",
      "Epoch 23, CIFAR-10 Batch 3:  Loss:     0.3232 , Validation Accuracy: 0.654800\n",
      "Epoch 23, CIFAR-10 Batch 4:  Loss:     0.3945 , Validation Accuracy: 0.646000\n",
      "Epoch 23, CIFAR-10 Batch 5:  Loss:     0.3952 , Validation Accuracy: 0.642400\n",
      "Epoch 24, CIFAR-10 Batch 1:  Loss:     0.4660 , Validation Accuracy: 0.641600\n",
      "Epoch 24, CIFAR-10 Batch 2:  Loss:     0.3330 , Validation Accuracy: 0.648800\n",
      "Epoch 24, CIFAR-10 Batch 3:  Loss:     0.3185 , Validation Accuracy: 0.656000\n",
      "Epoch 24, CIFAR-10 Batch 4:  Loss:     0.3645 , Validation Accuracy: 0.647200\n",
      "Epoch 24, CIFAR-10 Batch 5:  Loss:     0.4078 , Validation Accuracy: 0.640800\n",
      "Epoch 25, CIFAR-10 Batch 1:  Loss:     0.4447 , Validation Accuracy: 0.647000\n",
      "Epoch 25, CIFAR-10 Batch 2:  Loss:     0.3137 , Validation Accuracy: 0.650000\n",
      "Epoch 25, CIFAR-10 Batch 3:  Loss:     0.3091 , Validation Accuracy: 0.653000\n",
      "Epoch 25, CIFAR-10 Batch 4:  Loss:     0.3610 , Validation Accuracy: 0.639400\n",
      "Epoch 25, CIFAR-10 Batch 5:  Loss:     0.3999 , Validation Accuracy: 0.642800\n",
      "Epoch 26, CIFAR-10 Batch 1:  Loss:     0.4321 , Validation Accuracy: 0.651400\n",
      "Epoch 26, CIFAR-10 Batch 2:  Loss:     0.3004 , Validation Accuracy: 0.648200\n",
      "Epoch 26, CIFAR-10 Batch 3:  Loss:     0.3046 , Validation Accuracy: 0.650600\n",
      "Epoch 26, CIFAR-10 Batch 4:  Loss:     0.3636 , Validation Accuracy: 0.645000\n",
      "Epoch 26, CIFAR-10 Batch 5:  Loss:     0.3882 , Validation Accuracy: 0.643800\n",
      "Epoch 27, CIFAR-10 Batch 1:  Loss:     0.4165 , Validation Accuracy: 0.651200\n",
      "Epoch 27, CIFAR-10 Batch 2:  Loss:     0.3034 , Validation Accuracy: 0.649800\n",
      "Epoch 27, CIFAR-10 Batch 3:  Loss:     0.3160 , Validation Accuracy: 0.648800\n",
      "Epoch 27, CIFAR-10 Batch 4:  Loss:     0.3477 , Validation Accuracy: 0.644200\n",
      "Epoch 27, CIFAR-10 Batch 5:  Loss:     0.3903 , Validation Accuracy: 0.638000\n",
      "Epoch 28, CIFAR-10 Batch 1:  Loss:     0.4121 , Validation Accuracy: 0.651200\n",
      "Epoch 28, CIFAR-10 Batch 2:  Loss:     0.2861 , Validation Accuracy: 0.645400\n",
      "Epoch 28, CIFAR-10 Batch 3:  Loss:     0.3059 , Validation Accuracy: 0.650200\n",
      "Epoch 28, CIFAR-10 Batch 4:  Loss:     0.3312 , Validation Accuracy: 0.648600\n",
      "Epoch 28, CIFAR-10 Batch 5:  Loss:     0.3659 , Validation Accuracy: 0.639400\n",
      "Epoch 29, CIFAR-10 Batch 1:  Loss:     0.4090 , Validation Accuracy: 0.649000\n",
      "Epoch 29, CIFAR-10 Batch 2:  Loss:     0.2936 , Validation Accuracy: 0.641000\n",
      "Epoch 29, CIFAR-10 Batch 3:  Loss:     0.3281 , Validation Accuracy: 0.646800\n",
      "Epoch 29, CIFAR-10 Batch 4:  Loss:     0.3308 , Validation Accuracy: 0.642400\n",
      "Epoch 29, CIFAR-10 Batch 5:  Loss:     0.3726 , Validation Accuracy: 0.642800\n",
      "Epoch 30, CIFAR-10 Batch 1:  Loss:     0.3892 , Validation Accuracy: 0.645800\n",
      "Epoch 30, CIFAR-10 Batch 2:  Loss:     0.2692 , Validation Accuracy: 0.646600\n",
      "Epoch 30, CIFAR-10 Batch 3:  Loss:     0.3068 , Validation Accuracy: 0.642600\n",
      "Epoch 30, CIFAR-10 Batch 4:  Loss:     0.3540 , Validation Accuracy: 0.641400\n",
      "Epoch 30, CIFAR-10 Batch 5:  Loss:     0.3535 , Validation Accuracy: 0.637200\n",
      "Epoch 31, CIFAR-10 Batch 1:  Loss:     0.3617 , Validation Accuracy: 0.648200\n",
      "Epoch 31, CIFAR-10 Batch 2:  Loss:     0.2941 , Validation Accuracy: 0.647200\n",
      "Epoch 31, CIFAR-10 Batch 3:  Loss:     0.3184 , Validation Accuracy: 0.634800\n",
      "Epoch 31, CIFAR-10 Batch 4:  Loss:     0.3356 , Validation Accuracy: 0.640600\n",
      "Epoch 31, CIFAR-10 Batch 5:  Loss:     0.3362 , Validation Accuracy: 0.643000\n",
      "Epoch 32, CIFAR-10 Batch 1:  Loss:     0.3712 , Validation Accuracy: 0.648600\n",
      "Epoch 32, CIFAR-10 Batch 2:  Loss:     0.2672 , Validation Accuracy: 0.648400\n",
      "Epoch 32, CIFAR-10 Batch 3:  Loss:     0.3090 , Validation Accuracy: 0.636800\n",
      "Epoch 32, CIFAR-10 Batch 4:  Loss:     0.3463 , Validation Accuracy: 0.643400\n",
      "Epoch 32, CIFAR-10 Batch 5:  Loss:     0.3359 , Validation Accuracy: 0.638600\n",
      "Epoch 33, CIFAR-10 Batch 1:  Loss:     0.3582 , Validation Accuracy: 0.654400\n",
      "Epoch 33, CIFAR-10 Batch 2:  Loss:     0.2455 , Validation Accuracy: 0.649200\n",
      "Epoch 33, CIFAR-10 Batch 3:  Loss:     0.2908 , Validation Accuracy: 0.631000\n",
      "Epoch 33, CIFAR-10 Batch 4:  Loss:     0.3157 , Validation Accuracy: 0.644200\n",
      "Epoch 33, CIFAR-10 Batch 5:  Loss:     0.3527 , Validation Accuracy: 0.641000\n",
      "Epoch 34, CIFAR-10 Batch 1:  Loss:     0.3434 , Validation Accuracy: 0.652600\n",
      "Epoch 34, CIFAR-10 Batch 2:  Loss:     0.2416 , Validation Accuracy: 0.650600\n",
      "Epoch 34, CIFAR-10 Batch 3:  Loss:     0.2768 , Validation Accuracy: 0.633600\n",
      "Epoch 34, CIFAR-10 Batch 4:  Loss:     0.2986 , Validation Accuracy: 0.647800\n",
      "Epoch 34, CIFAR-10 Batch 5:  Loss:     0.3299 , Validation Accuracy: 0.647000\n",
      "Epoch 35, CIFAR-10 Batch 1:  Loss:     0.3398 , Validation Accuracy: 0.656200\n",
      "Epoch 35, CIFAR-10 Batch 2:  Loss:     0.2329 , Validation Accuracy: 0.651400\n",
      "Epoch 35, CIFAR-10 Batch 3:  Loss:     0.2666 , Validation Accuracy: 0.641600\n",
      "Epoch 35, CIFAR-10 Batch 4:  Loss:     0.3034 , Validation Accuracy: 0.649200\n",
      "Epoch 35, CIFAR-10 Batch 5:  Loss:     0.3133 , Validation Accuracy: 0.635800\n",
      "Epoch 36, CIFAR-10 Batch 1:  Loss:     0.3193 , Validation Accuracy: 0.648400\n",
      "Epoch 36, CIFAR-10 Batch 2:  Loss:     0.2269 , Validation Accuracy: 0.649600\n",
      "Epoch 36, CIFAR-10 Batch 3:  Loss:     0.2560 , Validation Accuracy: 0.641400\n",
      "Epoch 36, CIFAR-10 Batch 4:  Loss:     0.3052 , Validation Accuracy: 0.643600\n",
      "Epoch 36, CIFAR-10 Batch 5:  Loss:     0.3176 , Validation Accuracy: 0.642600\n",
      "Epoch 37, CIFAR-10 Batch 1:  Loss:     0.3300 , Validation Accuracy: 0.653800\n",
      "Epoch 37, CIFAR-10 Batch 2:  Loss:     0.2500 , Validation Accuracy: 0.641600\n",
      "Epoch 37, CIFAR-10 Batch 3:  Loss:     0.2462 , Validation Accuracy: 0.643200\n",
      "Epoch 37, CIFAR-10 Batch 4:  Loss:     0.2915 , Validation Accuracy: 0.645400\n",
      "Epoch 37, CIFAR-10 Batch 5:  Loss:     0.3175 , Validation Accuracy: 0.645200\n",
      "Epoch 38, CIFAR-10 Batch 1:  Loss:     0.3296 , Validation Accuracy: 0.652200\n",
      "Epoch 38, CIFAR-10 Batch 2:  Loss:     0.2346 , Validation Accuracy: 0.650200\n",
      "Epoch 38, CIFAR-10 Batch 3:  Loss:     0.2510 , Validation Accuracy: 0.637200\n",
      "Epoch 38, CIFAR-10 Batch 4:  Loss:     0.2876 , Validation Accuracy: 0.654400\n",
      "Epoch 38, CIFAR-10 Batch 5:  Loss:     0.3079 , Validation Accuracy: 0.639800\n",
      "Epoch 39, CIFAR-10 Batch 1:  Loss:     0.3172 , Validation Accuracy: 0.651000\n",
      "Epoch 39, CIFAR-10 Batch 2:  Loss:     0.2495 , Validation Accuracy: 0.644000\n",
      "Epoch 39, CIFAR-10 Batch 3:  Loss:     0.2462 , Validation Accuracy: 0.638600\n",
      "Epoch 39, CIFAR-10 Batch 4:  Loss:     0.2860 , Validation Accuracy: 0.649600\n",
      "Epoch 39, CIFAR-10 Batch 5:  Loss:     0.3126 , Validation Accuracy: 0.635400\n",
      "Epoch 40, CIFAR-10 Batch 1:  Loss:     0.3291 , Validation Accuracy: 0.656200\n",
      "Epoch 40, CIFAR-10 Batch 2:  Loss:     0.2483 , Validation Accuracy: 0.642200\n",
      "Epoch 40, CIFAR-10 Batch 3:  Loss:     0.2531 , Validation Accuracy: 0.634200\n",
      "Epoch 40, CIFAR-10 Batch 4:  Loss:     0.2807 , Validation Accuracy: 0.653200\n",
      "Epoch 40, CIFAR-10 Batch 5:  Loss:     0.2986 , Validation Accuracy: 0.640800\n"
     ]
    }
   ],
   "source": [
    "\"\"\"\n",
    "DON'T MODIFY ANYTHING IN THIS CELL\n",
    "\"\"\"\n",
    "save_model_path = './image_classification'\n",
    "\n",
    "print('Training...')\n",
    "with tf.Session() as sess:\n",
    "    # Initializing the variables\n",
    "    sess.run(tf.global_variables_initializer())\n",
    "    \n",
    "    # Training cycle\n",
    "    for epoch in range(epochs):\n",
    "        # Loop over all batches\n",
    "        n_batches = 5\n",
    "        for batch_i in range(1, n_batches + 1):\n",
    "            for batch_features, batch_labels in helper.load_preprocess_training_batch(batch_i, batch_size):\n",
    "                train_neural_network(sess, optimizer, keep_probability, batch_features, batch_labels)\n",
    "            print('Epoch {:>2}, CIFAR-10 Batch {}:  '.format(epoch + 1, batch_i), end='')\n",
    "            print_stats(sess, batch_features, batch_labels, cost, accuracy)\n",
    "            \n",
    "    # Save Model\n",
    "    saver = tf.train.Saver()\n",
    "    save_path = saver.save(sess, save_model_path)"
   ]
  },
  {
   "cell_type": "markdown",
   "metadata": {},
   "source": [
    "# Checkpoint\n",
    "The model has been saved to disk.\n",
    "## Test Model\n",
    "Test your model against the test dataset.  This will be your final accuracy. You should have an accuracy greater than 50%. If you don't, keep tweaking the model architecture and parameters."
   ]
  },
  {
   "cell_type": "code",
   "execution_count": 112,
   "metadata": {},
   "outputs": [
    {
     "name": "stdout",
     "output_type": "stream",
     "text": [
      "INFO:tensorflow:Restoring parameters from ./image_classification\n",
      "Testing Accuracy: 0.6494140625\n",
      "\n"
     ]
    },
    {
     "data": {
      "image/png": "[encoded data removed]",
      "text/plain": [
       "<matplotlib.figure.Figure at 0x14701d6a0>"
      ]
     },
     "metadata": {
      "image/png": {
       "height": 319,
       "width": 355
      }
     },
     "output_type": "display_data"
    }
   ],
   "source": [
    "\"\"\"\n",
    "DON'T MODIFY ANYTHING IN THIS CELL\n",
    "\"\"\"\n",
    "%matplotlib inline\n",
    "%config InlineBackend.figure_format = 'retina'\n",
    "\n",
    "import tensorflow as tf\n",
    "import pickle\n",
    "import helper\n",
    "import random\n",
    "\n",
    "# Set batch size if not already set\n",
    "try:\n",
    "    if batch_size:\n",
    "        pass\n",
    "except NameError:\n",
    "    batch_size = 64\n",
    "\n",
    "save_model_path = './image_classification'\n",
    "n_samples = 4\n",
    "top_n_predictions = 3\n",
    "\n",
    "def test_model():\n",
    "    \"\"\"\n",
    "    Test the saved model against the test dataset\n",
    "    \"\"\"\n",
    "\n",
    "    test_features, test_labels = pickle.load(open('preprocess_training.p', mode='rb'))\n",
    "    loaded_graph = tf.Graph()\n",
    "\n",
    "    with tf.Session(graph=loaded_graph) as sess:\n",
    "        # Load model\n",
    "        loader = tf.train.import_meta_graph(save_model_path + '.meta')\n",
    "        loader.restore(sess, save_model_path)\n",
    "\n",
    "        # Get Tensors from loaded model\n",
    "        loaded_x = loaded_graph.get_tensor_by_name('x:0')\n",
    "        loaded_y = loaded_graph.get_tensor_by_name('y:0')\n",
    "        loaded_keep_prob = loaded_graph.get_tensor_by_name('keep_prob:0')\n",
    "        loaded_logits = loaded_graph.get_tensor_by_name('logits:0')\n",
    "        loaded_acc = loaded_graph.get_tensor_by_name('accuracy:0')\n",
    "        \n",
    "        # Get accuracy in batches for memory limitations\n",
    "        test_batch_acc_total = 0\n",
    "        test_batch_count = 0\n",
    "        \n",
    "        for train_feature_batch, train_label_batch in helper.batch_features_labels(test_features, test_labels, batch_size):\n",
    "            test_batch_acc_total += sess.run(\n",
    "                loaded_acc,\n",
    "                feed_dict={loaded_x: train_feature_batch, loaded_y: train_label_batch, loaded_keep_prob: 1.0})\n",
    "            test_batch_count += 1\n",
    "\n",
    "        print('Testing Accuracy: {}\\n'.format(test_batch_acc_total/test_batch_count))\n",
    "\n",
    "        # Print Random Samples\n",
    "        random_test_features, random_test_labels = tuple(zip(*random.sample(list(zip(test_features, test_labels)), n_samples)))\n",
    "        random_test_predictions = sess.run(\n",
    "            tf.nn.top_k(tf.nn.softmax(loaded_logits), top_n_predictions),\n",
    "            feed_dict={loaded_x: random_test_features, loaded_y: random_test_labels, loaded_keep_prob: 1.0})\n",
    "        helper.display_image_predictions(random_test_features, random_test_labels, random_test_predictions)\n",
    "\n",
    "\n",
    "test_model()"
   ]
  },
  {
   "cell_type": "markdown",
   "metadata": {},
   "source": [
    "## Why 50-80% Accuracy?\n",
    "You might be wondering why you can't get an accuracy any higher. First things first, 50% isn't bad for a simple CNN.  Pure guessing would get you 10% accuracy. That's because there are many more techniques that can be applied to your model and we recemmond that once you are done with this project, you explore!\n",
    "\n",
    "## Submitting This Project\n",
    "When submitting this project, make sure to run all the cells before saving the notebook.  Save the notebook file as \"image_classification.ipynb\" and save it as a HTML file under \"File\" -> \"Download as\".  Include the \"helper.py\" and \"problem_unittests.py\" files in your submission."
   ]
  }
 ],
 "metadata": {
  "kernelspec": {
   "display_name": "Python 3",
   "language": "python",
   "name": "python3"
  },
  "language_info": {
   "codemirror_mode": {
    "name": "ipython",
    "version": 3
   },
   "file_extension": ".py",
   "mimetype": "text/x-python",
   "name": "python",
   "nbconvert_exporter": "python",
   "pygments_lexer": "ipython3",
   "version": "3.5.2"
  },
  "widgets": {
   "state": {},
   "version": "1.1.2"
  }
 },
 "nbformat": 4,
 "nbformat_minor": 1
}
